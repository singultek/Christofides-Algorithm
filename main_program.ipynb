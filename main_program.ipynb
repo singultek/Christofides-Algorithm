{
 "cells": [
  {
   "cell_type": "code",
   "execution_count": null,
   "metadata": {},
   "outputs": [],
   "source": [
    "import run_functions\n",
    "import tkinter\n",
    "\n",
    "window = tkinter.Tk()\n",
    "window.title(\"GUI\")\n",
    "window.geometry('650x400')\n",
    "\n",
    "\n",
    "label = tkinter.Label(window, text = \"Which algorithm do you want?\",font=(\"Arial Bold\", 15)).pack()\n",
    "\n",
    "tkinter.Button(window, text = \"Kruskal MST and Algorithm MWM with User Input\", command = run_functions.userTSP_Kruskal_MST_Algorithm_MWM).pack()\n",
    "tkinter.Button(window, text = \"Kruskal MST and Formulation MWM with User Input\", command = run_functions.userTSP_Kruskal_MST_Formulation_MWM).pack()\n",
    "tkinter.Button(window, text = \"Prim MST and Algorithm MWM with User Input\", command = run_functions.userTSP_Prim_MST_Algorithm_MWM).pack()\n",
    "tkinter.Button(window, text = \"Prim MST and Formulation MWM with User Input\", command = run_functions.userTSP_Prim_MST_Formulation_MWM).pack()\n",
    "tkinter.Button(window, text = \"Formulation MST and Algorithm MWM with User Input\", command = run_functions.userTSP_Formulation_MST_Algorithm_MWM).pack()\n",
    "tkinter.Button(window, text = \"Formulation MST and Formulation MWM with User Input\", command = run_functions.userTSP_Formulation_MST_Formulation_MWM).pack()\n",
    "tkinter.Button(window, text = \"Kruskal MST and Algorithm MWM with TSPLIB Input\", command = run_functions.TSPlib_Kruskal_MST_Algorithm_MWM).pack()\n",
    "tkinter.Button(window, text = \"Kruskal MST and Formulation MWM with TSPLIB Input \", command = run_functions.TSPlib_Kruskal_MST_Formulation_MWM).pack()\n",
    "tkinter.Button(window, text = \"Prim MST and Algorithm MWM with TSPLIB Input\", command = run_functions.TSPlib_Prim_MST_Algorithm_MWM).pack()\n",
    "tkinter.Button(window, text = \"Prim MST and Formulation MWM with TSPLIB Input\", command = run_functions.TSPlib_Prim_MST_Formulation_MWM).pack()\n",
    "tkinter.Button(window, text = \"Formulation MST and Algorithm MWM with TSPLIB Input\", command = run_functions.TSPlib_Formulation_MST_Algorithm_MWM).pack()\n",
    "tkinter.Button(window, text = \"Formulation MST and Formulation MWM with TSPLIB Input\", command = run_functions.TSPlib_Formulation_MST_Formulation_MWM).pack()\n",
    "\n",
    "\n",
    "window.mainloop()\n",
    "\n",
    "\n"
   ]
  }
 ],
 "metadata": {
  "kernelspec": {
   "display_name": "Python 3",
   "language": "python",
   "name": "python3"
  },
  "language_info": {
   "codemirror_mode": {
    "name": "ipython",
    "version": 3
   },
   "file_extension": ".py",
   "mimetype": "text/x-python",
   "name": "python",
   "nbconvert_exporter": "python",
   "pygments_lexer": "ipython3",
   "version": "3.7.6"
  }
 },
 "nbformat": 4,
 "nbformat_minor": 2
}
